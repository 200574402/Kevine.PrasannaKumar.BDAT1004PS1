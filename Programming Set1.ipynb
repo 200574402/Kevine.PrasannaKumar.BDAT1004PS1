{
 "cells": [
  {
   "cell_type": "code",
   "execution_count": null,
   "id": "a7e2992f-537a-4629-984f-2e3acae4b050",
   "metadata": {},
   "outputs": [],
   "source": [
    "Q1) What data type is each of the following (evaluate where necessary)?"
   ]
  },
  {
   "cell_type": "code",
   "execution_count": 2,
   "id": "515cf18b-de5d-4faf-8e2e-6f730aa822f3",
   "metadata": {},
   "outputs": [
    {
     "name": "stdout",
     "output_type": "stream",
     "text": [
      "<class 'int'>\n"
     ]
    }
   ],
   "source": [
    "a=5\n",
    "print(type(a))"
   ]
  },
  {
   "cell_type": "code",
   "execution_count": 3,
   "id": "db9ff51b-a9dd-483f-b343-e6e0c06589af",
   "metadata": {},
   "outputs": [
    {
     "name": "stdout",
     "output_type": "stream",
     "text": [
      "<class 'float'>\n"
     ]
    }
   ],
   "source": [
    "a=5.0\n",
    "print(type(a))"
   ]
  },
  {
   "cell_type": "code",
   "execution_count": 4,
   "id": "da3b474e-aaf1-4060-9747-5f7139396839",
   "metadata": {},
   "outputs": [
    {
     "name": "stdout",
     "output_type": "stream",
     "text": [
      "<class 'bool'>\n"
     ]
    }
   ],
   "source": [
    "print(type(5>1))"
   ]
  },
  {
   "cell_type": "code",
   "execution_count": 5,
   "id": "20329b6e-c095-4c90-970a-1826d0c12c1d",
   "metadata": {},
   "outputs": [
    {
     "name": "stdout",
     "output_type": "stream",
     "text": [
      "<class 'str'>\n"
     ]
    }
   ],
   "source": [
    "a='5'\n",
    "print(type(a))"
   ]
  },
  {
   "cell_type": "code",
   "execution_count": 6,
   "id": "0c29de0d-e387-4958-8e7c-8e93cb85e5b8",
   "metadata": {},
   "outputs": [
    {
     "name": "stdout",
     "output_type": "stream",
     "text": [
      "<class 'int'>\n"
     ]
    }
   ],
   "source": [
    "print(type(5*2))"
   ]
  },
  {
   "cell_type": "code",
   "execution_count": 7,
   "id": "78edada0-9275-4f59-beb6-77b95cbc77ae",
   "metadata": {},
   "outputs": [
    {
     "name": "stdout",
     "output_type": "stream",
     "text": [
      "<class 'str'>\n"
     ]
    }
   ],
   "source": [
    "print(type('5'*2))"
   ]
  },
  {
   "cell_type": "code",
   "execution_count": 8,
   "id": "297c49b8-8ab3-4f22-a102-40604a5d34f0",
   "metadata": {},
   "outputs": [
    {
     "name": "stdout",
     "output_type": "stream",
     "text": [
      "<class 'str'>\n"
     ]
    }
   ],
   "source": [
    "print(type('5'+'2'))"
   ]
  },
  {
   "cell_type": "code",
   "execution_count": 9,
   "id": "369aec7e-0522-4677-aabd-fdd2caa8e34b",
   "metadata": {},
   "outputs": [
    {
     "name": "stdout",
     "output_type": "stream",
     "text": [
      "<class 'float'>\n"
     ]
    }
   ],
   "source": [
    "print(type(5/2))"
   ]
  },
  {
   "cell_type": "code",
   "execution_count": 10,
   "id": "053218bf-8c32-4c53-ba1f-66c90cd5f5c6",
   "metadata": {},
   "outputs": [
    {
     "name": "stdout",
     "output_type": "stream",
     "text": [
      "<class 'int'>\n"
     ]
    }
   ],
   "source": [
    "print(type(5%2))"
   ]
  },
  {
   "cell_type": "code",
   "execution_count": 11,
   "id": "c9a1e5b1-1540-4733-9cf6-2ba97c0925bf",
   "metadata": {},
   "outputs": [
    {
     "name": "stdout",
     "output_type": "stream",
     "text": [
      "<class 'set'>\n"
     ]
    }
   ],
   "source": [
    "a={5, 2, 1}\n",
    "print(type(a))"
   ]
  },
  {
   "cell_type": "code",
   "execution_count": 12,
   "id": "ff670039-a0ba-4c1b-9269-779a01f999e9",
   "metadata": {},
   "outputs": [
    {
     "name": "stdout",
     "output_type": "stream",
     "text": [
      "<class 'bool'>\n"
     ]
    }
   ],
   "source": [
    "print(type(5 == 3))"
   ]
  },
  {
   "cell_type": "code",
   "execution_count": 13,
   "id": "91e63908-23b5-4406-96a1-7b83144a3b66",
   "metadata": {},
   "outputs": [
    {
     "name": "stdout",
     "output_type": "stream",
     "text": [
      "<class 'float'>\n"
     ]
    }
   ],
   "source": [
    "import math\n",
    "print(type(math.pi))"
   ]
  },
  {
   "cell_type": "code",
   "execution_count": null,
   "id": "672ef673-88ce-4195-9733-29179a598209",
   "metadata": {},
   "outputs": [],
   "source": [
    "Q2a) How many letters are there in 'Supercalifragilisticexpialidocious'?"
   ]
  },
  {
   "cell_type": "code",
   "execution_count": 1,
   "id": "33e3cf2e-17cc-4eea-9c11-b79803f6fe4d",
   "metadata": {},
   "outputs": [
    {
     "name": "stdout",
     "output_type": "stream",
     "text": [
      "33\n"
     ]
    }
   ],
   "source": [
    "print(len(\"upercalifragilisticexpialidocious\"))"
   ]
  },
  {
   "cell_type": "code",
   "execution_count": null,
   "id": "fbcaad62-4b47-4835-afd2-d8ac05a483a8",
   "metadata": {},
   "outputs": [],
   "source": [
    "Q2b) Does 'Supercalifragilisticexpialidocious' contain 'ice' as a substring?"
   ]
  },
  {
   "cell_type": "code",
   "execution_count": 2,
   "id": "02603bde-2c74-493f-9dbb-6ef82d154b0c",
   "metadata": {},
   "outputs": [
    {
     "name": "stdout",
     "output_type": "stream",
     "text": [
      "True\n"
     ]
    }
   ],
   "source": [
    "print(\"ice\" in \"Supercalifragilisticexpialidocious\")"
   ]
  },
  {
   "cell_type": "code",
   "execution_count": null,
   "id": "506948d5-4b22-4f4f-a6e1-4aa8c1db450b",
   "metadata": {},
   "outputs": [],
   "source": [
    "Q2c) Which of the following words is the longest:Supercalifragilisticexpialidocious, Honorificabilitudinitatibus, orBababadalgharaghtakamminarronnkonn?"
   ]
  },
  {
   "cell_type": "code",
   "execution_count": 3,
   "id": "47319c7f-33bf-4e54-8d7e-c645015f0b4d",
   "metadata": {},
   "outputs": [
    {
     "name": "stdout",
     "output_type": "stream",
     "text": [
      "The longest word from the list is : orBababadalgharaghtakamminarronnkonn\n"
     ]
    }
   ],
   "source": [
    "list = [\"Supercalifragilisticexpialidocious\",\"Honorificabilitudinitatibus\",\"orBababadalgharaghtakamminarronnkonn\"]\n",
    "lngst_word = \"\"\n",
    "for i in list:\n",
    "    if(len(i)>len(lngst_word)):\n",
    "        lngst_word = i\n",
    "print(\"The longest word from the list is : \" + lngst_word)"
   ]
  },
  {
   "cell_type": "code",
   "execution_count": null,
   "id": "f0473a1d-21cc-45ff-aa4b-6c9c3690f13e",
   "metadata": {},
   "outputs": [],
   "source": [
    "Q2d) Which composer comes first in the dictionary: 'Berlioz', 'Borodin', 'Brian','Bartok', 'Bellini', 'Buxtehude', 'Bernstein'. Which one comes last?"
   ]
  },
  {
   "cell_type": "code",
   "execution_count": 4,
   "id": "8b0e1b2d-5c15-45cc-938b-8d1d154d20a8",
   "metadata": {},
   "outputs": [
    {
     "name": "stdout",
     "output_type": "stream",
     "text": [
      "The composer that comes first in the dictionary is : Bartok\n"
     ]
    }
   ],
   "source": [
    "list = ['Berlioz', 'Borodin', 'Brian','Bartok', 'Bellini', 'Buxtehude', 'Bernstein']\n",
    "list = sorted(list)\n",
    "print(\"The composer that comes first in the dictionary is : \" + list[0])"
   ]
  },
  {
   "cell_type": "code",
   "execution_count": null,
   "id": "0ee7f801-18dd-4c6c-a25f-2dffd8aee863",
   "metadata": {},
   "outputs": [],
   "source": [
    "Q3) Implement function triangleArea(a,b,c) that takes as input the lengths of the 3sides of a triangle and returns the area of the triangle. By Heron's formula, the areaof a triangle with side lengths a, b, and c iss(s - a)(s - b)(s - c) , wheres = (a + b + c) /2."
   ]
  },
  {
   "cell_type": "code",
   "execution_count": 5,
   "id": "2165efaa-83a4-4755-ad0b-0e4487cb924b",
   "metadata": {},
   "outputs": [
    {
     "name": "stdout",
     "output_type": "stream",
     "text": [
      "1.7320508075688772\n"
     ]
    }
   ],
   "source": [
    "import math\n",
    "def triangeArea(a, b,c):\n",
    "    s = ((a+b+c)/2)\n",
    "    area = math.sqrt(s*(s-a)*(s-b)*(s-c))\n",
    "    return area\n",
    "print(triangeArea(2,2,2))"
   ]
  },
  {
   "cell_type": "code",
   "execution_count": null,
   "id": "4713476e-f733-4c5d-9c69-9d365bd08158",
   "metadata": {},
   "outputs": [],
   "source": [
    "Q4) Write a program in python to separate odd and even integers in separate arrays."
   ]
  },
  {
   "cell_type": "code",
   "execution_count": 6,
   "id": "eb7a82ac-0819-4d3d-9ee1-9b87f092f3ea",
   "metadata": {},
   "outputs": [
    {
     "name": "stdout",
     "output_type": "stream",
     "text": [
      "[42, 56, 32]\n",
      "[25, 47]\n"
     ]
    }
   ],
   "source": [
    "even = []\n",
    "odd = []\n",
    "string = [25,47,42,56,32]\n",
    "for i in string:\n",
    "    if(i%2==0):\n",
    "        even.append(i)\n",
    "    else:\n",
    "        odd.append(i)\n",
    "\n",
    "print(even)\n",
    "print(odd)"
   ]
  },
  {
   "cell_type": "code",
   "execution_count": null,
   "id": "40449607-d75e-4669-a817-5aa857121516",
   "metadata": {},
   "outputs": [],
   "source": [
    "Q5a) Write a function inside(x,y,x1,y1,x2,y2) that returns True or Falsedepending on whether the point (x,y) lies in the rectangle with lower leftcorner (x1,y1) and upper right corner (x2,y2)"
   ]
  },
  {
   "cell_type": "code",
   "execution_count": 7,
   "id": "72be2408-878a-462d-9844-95bca36e507e",
   "metadata": {},
   "outputs": [
    {
     "name": "stdout",
     "output_type": "stream",
     "text": [
      "True\n",
      "False\n"
     ]
    }
   ],
   "source": [
    "def inside(x,y,x1,y1,x2,y2):\n",
    "    if (x > x1 and x < x2 and\n",
    "        y > y1 and y < y2) :\n",
    "        return True\n",
    "    else :\n",
    "        return False\n",
    "print(inside(1,1,0,0,2,3))\n",
    "print(inside(-1,-1,0,0,2,3))"
   ]
  },
  {
   "cell_type": "code",
   "execution_count": null,
   "id": "f905bf3b-2c2a-4d72-9fa4-702024873385",
   "metadata": {},
   "outputs": [],
   "source": [
    "Q5b) Use function inside() from part a. to write an expression that tests whetherthe point (1,1) lies in both of the following rectangles: one with lower leftcorner (0.3, 0.5) and upper right corner (1.1, 0.7) and the other with lowerleft corner (0.5, 0.2) and upper right corner (1.1, 2)."
   ]
  },
  {
   "cell_type": "code",
   "execution_count": 8,
   "id": "7e1cd912-41ee-4620-9056-107ac53eaea5",
   "metadata": {},
   "outputs": [
    {
     "name": "stdout",
     "output_type": "stream",
     "text": [
      "False\n",
      "True\n"
     ]
    }
   ],
   "source": [
    "def inside(x,y,x1,y1,x2,y2):\n",
    "    if (x > x1 and x < x2 and\n",
    "        y > y1 and y < y2) :\n",
    "        return True\n",
    "    else :\n",
    "        return False\n",
    "print(inside(1,1,0.3,0.5,1.1,0.7))\n",
    "print(inside(1,1,0.5,0.2,1.1,2.0))"
   ]
  },
  {
   "cell_type": "code",
   "execution_count": null,
   "id": "e231b6bb-9e41-45f1-8301-5a994823cde0",
   "metadata": {},
   "outputs": [],
   "source": [
    "Q6) You can turn a word into pig-Latin using the following two rules (simplified):• If the word starts with a consonant, move that letter to the end and append'ay'. For example, 'happy' becomes 'appyhay' and 'pencil' becomes 'encilpay'.• If the word starts with a vowel, simply append 'way' to the end of the word.For example, 'enter' becomes 'enterway' and 'other' becomes 'otherway' . Forour purposes, there are 5 vowels: a, e, i, o, u (so we count y as a consonant).Write a function pig() that takes a word (i.e., a string) as input and returns its pig-Latin form. Your function should still work if the input word contains upper casecharacters. Your output should always be lower case however"
   ]
  },
  {
   "cell_type": "code",
   "execution_count": 9,
   "id": "ea62cd47-e9b2-45d3-8fbc-19ad6e0d2e64",
   "metadata": {},
   "outputs": [
    {
     "name": "stdout",
     "output_type": "stream",
     "text": [
      "Enter a string\n"
     ]
    },
    {
     "name": "stdin",
     "output_type": "stream",
     "text": [
      " happy\n"
     ]
    },
    {
     "name": "stdout",
     "output_type": "stream",
     "text": [
      "appyhay\n"
     ]
    }
   ],
   "source": [
    "def pig(input):\n",
    "    list = input\n",
    "    char = []\n",
    "    for i in list:\n",
    "            char.append(i)\n",
    "    concat_list = \"\"\n",
    "    x = char[0]\n",
    "\n",
    "             \n",
    "    if(i=='a' or i=='e' or i=='i' or i=='o' or i=='u'):\n",
    "            char.append('way')\n",
    "    else:\n",
    "            char.pop(0)\n",
    "            char.append(x)\n",
    "            char.append('ay') \n",
    "              \n",
    "    for i in char:\n",
    "            concat_list = concat_list + i\n",
    "\n",
    "    return concat_list\n",
    "\n",
    "print(\"Enter a string\")\n",
    "input = input()\n",
    "print(pig(input))"
   ]
  },
  {
   "cell_type": "code",
   "execution_count": null,
   "id": "ff5c6714-2b44-45b3-9800-89b7dd2c0586",
   "metadata": {},
   "outputs": [],
   "source": [
    "Q7) File bloodtype1.txt records blood-types of patients (A, B, AB, O or OO) at a clinic.Write a function bldcount() that reads the file with name name and reports (i.e.,prints) how many patients there are in each bloodtype."
   ]
  },
  {
   "cell_type": "code",
   "execution_count": 13,
   "id": "cbad39ac-3bb2-4095-88f6-f34fc5ef390d",
   "metadata": {},
   "outputs": [
    {
     "name": "stdout",
     "output_type": "stream",
     "text": [
      "There are 15 patients with blood group A\n",
      "There are 1 patients with blood group B\n",
      "There are 13 patients with blood group AB\n",
      "There are 15 patients with blood group O\n",
      "There are 0 patients with blood group OO\n"
     ]
    }
   ],
   "source": [
    "f = open(\"bloodtype1.txt\", \"r\")\n",
    "data = f.read()\n",
    "count = 0\n",
    "covert_array = data.split()\n",
    "base_data = ['A','B','AB','O','OO']\n",
    "for x in base_data:\n",
    "    count = covert_array.count(x)\n",
    "    print(\"There are {0} patients with blood group {1}\".format(count,x))"
   ]
  },
  {
   "cell_type": "code",
   "execution_count": null,
   "id": "73f04fb7-4b72-49a0-9522-ce91efc4583f",
   "metadata": {},
   "outputs": [],
   "source": [
    "Q8) Write a function curconv() that takes as input:\n",
    "\n",
    "a currency represented using a string (e.g., 'JPY' for the Japanese Yen or'EUR' for the Euro)\n",
    "an amount\n",
    "and then converts and returns the amount in US dollars.\n",
    "\n",
    "The currency rates you will need are stored in file currencies.txt: AUD 1.0345157 Australian Dollar CHF 1.0237414 Swiss Franc CNY 0.1550176 Chinese Yuan DKK 0.1651442 Danish Krone EUR 1.2296544 Euro GBP 1.5550989 British Pound HKD 0.1270207 Hong Kong Dollar INR 0.0177643 Indian Rupee JPY 0.01241401 Japanese Yen MXN 0.0751848 Mexican Peso MYR 0.3145411 Malaysian Ringgit NOK 0.1677063 Norwegian Krone NZD 0.8003591 New Zealand Dollar PHP 0.0233234 Philippine Peso SEK 0.148269 Swedish Krona SGD 0.788871 Singapore Dollar THB 0.0313789 Thai Baht"
   ]
  },
  {
   "cell_type": "code",
   "execution_count": 1,
   "id": "a21c8e78-8564-4fe6-b7b7-eb3dd9de0e90",
   "metadata": {},
   "outputs": [
    {
     "name": "stdout",
     "output_type": "stream",
     "text": [
      "Enter Currency\n"
     ]
    },
    {
     "name": "stdin",
     "output_type": "stream",
     "text": [
      " EUR\n"
     ]
    },
    {
     "name": "stdout",
     "output_type": "stream",
     "text": [
      "Enter Value\n"
     ]
    },
    {
     "name": "stdin",
     "output_type": "stream",
     "text": [
      " 100\n"
     ]
    },
    {
     "name": "stdout",
     "output_type": "stream",
     "text": [
      "122.96544\n"
     ]
    }
   ],
   "source": [
    "def curcov(curr_input,val_input):\n",
    "    #f = open(\"currencies.txt\", \"r\") \n",
    "    #get_data = f.read()\n",
    "    #just to show the program works\n",
    "    split_data = ['AUD', '1.0345157', 'Australian', 'Dollar', 'CHF', '1.0237414', 'Swiss', 'Franc', 'CNY', '0.1550176', 'Chinese', 'Yuan', 'DKK', '0.1651442', 'Danish', 'Krone', 'EUR', '1.2296544', 'Euro', 'GBP', '1.5550989', 'British', 'Pound', 'HKD', '0.1270207', 'Hong', 'Kong', 'Dollar', 'INR', '0.0177643', 'Indian', 'Rupee', 'JPY', '0.01241401', 'Japanese', 'Yen', 'MXN', '0.0751848', 'Mexican', 'Peso', 'MYR', '0.3145411', 'Malaysian', 'Ringgit', 'NOK', '0.1677063', 'Norwegian', 'Krone', 'NZD', '0.8003591', 'New', 'Zealand', 'Dollar', 'PHP', '0.0233234', 'Philippine', 'Peso', 'SEK', '0.148269', 'Swedish', 'Krona', 'SGD', '0.788871', 'Singapore', 'Dollar', 'THB', '0.0313789', 'Thai', 'Baht']\n",
    "    #split_data = get_data.split()\n",
    "    get_index = split_data.index(curr_input)\n",
    "    conv_value = split_data[get_index+1]\n",
    "    calculate = float(conv_value) * float(val_input)\n",
    "    print(calculate)\n",
    "\n",
    "print(\"Enter Currency\")\n",
    "curr_input = input()\n",
    "print(\"Enter Value\")\n",
    "val_input = input()\n",
    "curcov(curr_input,val_input)"
   ]
  },
  {
   "cell_type": "code",
   "execution_count": null,
   "id": "f97287a2-126e-4f95-90d7-13b891d51dc2",
   "metadata": {},
   "outputs": [],
   "source": [
    "Q9) Each of the following will cause an exception (an error). Identify what type ofexception each will cause."
   ]
  },
  {
   "cell_type": "code",
   "execution_count": null,
   "id": "1749adbe-3396-4f59-b616-b07933a5c837",
   "metadata": {},
   "outputs": [],
   "source": [
    "Trying to add incompatible variables, as inadding 6 + ‘a’\n",
    "    - operand is not supported\n",
    "\n",
    "Referring to the 12th item of a list that has only 10items\n",
    "    - index is out of list range\n",
    "\n",
    "Using a value that is out of range for a function’sinput, such as calling math.sqrt(-1.0)\n",
    "    - math domain error\n",
    "\n",
    "Using an undeclared variable, such as print(x)when x has not been defined\n",
    "    - 'x' is not defined\n",
    "\n",
    "Trying to open a file that does not exist, such asmistyping the file name or looking in the wrongdirectory\n",
    "    - *No such file or directory*"
   ]
  },
  {
   "cell_type": "code",
   "execution_count": null,
   "id": "67485459-4382-4fd4-9692-cc58779d181d",
   "metadata": {},
   "outputs": [],
   "source": [
    "Q10) Encryption is the process of hiding the meaning of a text by substituting letters in themessage with other letters, according to some system. If the process is successful, noone but the intended recipient can understand the encrypted message. Cryptanalysisrefers to attempts to undo the encryption, even if some details of the encryption areunknown (for example, if an encrypted message has been intercepted). The first stepof cryptanalysis is often to build up a table of letter frequencies in the encrypted text.Assume that the string letters is already defined as'abcdefghijklmnopqrstuvwxyz'. Write a function called frequencies()that takes a string as its only parameter, and returns a list of integers, showing thenumber of times each character appears in the text. Your function may ignore anycharacters that are not in letters"
   ]
  },
  {
   "cell_type": "code",
   "execution_count": 2,
   "id": "f10c8972-90bc-4be8-9f40-b261bd74b80e",
   "metadata": {},
   "outputs": [
    {
     "name": "stdout",
     "output_type": "stream",
     "text": [
      "1\n",
      "1\n",
      "1\n",
      "3\n",
      "5\n",
      "1\n",
      "1\n",
      "2\n",
      "1\n",
      "0\n",
      "1\n",
      "0\n",
      "1\n",
      "2\n",
      "4\n",
      "0\n",
      "1\n",
      "2\n",
      "0\n",
      "2\n",
      "1\n",
      "0\n",
      "1\n",
      "1\n",
      "0\n",
      "0\n",
      "\n",
      "\n",
      "\n",
      "1\n",
      "0\n",
      "0\n",
      "0\n",
      "1\n",
      "0\n",
      "0\n",
      "0\n",
      "0\n",
      "0\n",
      "0\n",
      "1\n",
      "0\n",
      "0\n",
      "0\n",
      "2\n",
      "0\n",
      "0\n",
      "1\n",
      "0\n",
      "0\n",
      "0\n",
      "0\n",
      "0\n",
      "0\n",
      "0\n"
     ]
    }
   ],
   "source": [
    "def frequencies(get_string):\n",
    "    char_string = []\n",
    "    string_alphabets = \"abcdefghijklmnopkrstuvwxyz\"\n",
    "\n",
    "    for x in get_string:\n",
    "        char_string.append(x)\n",
    "    \n",
    "    for x in string_alphabets:\n",
    "        print(char_string.count(x))\n",
    "        \n",
    "\n",
    "frequencies('The quick red fox got bored and went home')\n",
    "print(\"\\n\\n\")\n",
    "frequencies('apples')"
   ]
  },
  {
   "cell_type": "code",
   "execution_count": null,
   "id": "1066490a-8e06-425c-b4cc-d565caeb22f4",
   "metadata": {},
   "outputs": [],
   "source": []
  }
 ],
 "metadata": {
  "kernelspec": {
   "display_name": "Python 3 (ipykernel)",
   "language": "python",
   "name": "python3"
  },
  "language_info": {
   "codemirror_mode": {
    "name": "ipython",
    "version": 3
   },
   "file_extension": ".py",
   "mimetype": "text/x-python",
   "name": "python",
   "nbconvert_exporter": "python",
   "pygments_lexer": "ipython3",
   "version": "3.11.5"
  }
 },
 "nbformat": 4,
 "nbformat_minor": 5
}
